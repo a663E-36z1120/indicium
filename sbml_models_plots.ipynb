{
 "cells": [
  {
   "cell_type": "code",
   "execution_count": 151,
   "metadata": {
    "id": "ofOs6a86E3TY"
   },
   "outputs": [],
   "source": [
    "import pandas as pd\n",
    "import numpy as np\n",
    "import matplotlib.pyplot as plt"
   ]
  },
  {
   "cell_type": "code",
   "execution_count": 152,
   "metadata": {
    "colab": {
     "base_uri": "https://localhost:8080/",
     "height": 345
    },
    "id": "dmW3j27yFF4B",
    "outputId": "ce6ff482-61d8-41c2-a301-53f02068604f"
   },
   "outputs": [
    {
     "data": {
      "text/plain": "                                            organism  \\\n0                   Abiotrophia defectiva ATCC 49176   \n1                      Achromobacter xylosoxidans A8   \n2  Achromobacter xylosoxidans NBRC 15126 = ATCC 2...   \n3               Acidaminococcus fermentans DSM 20731   \n4                 Acidaminococcus intestini RyC-MR95   \n5                            Acidaminococcus sp. D21   \n6                     Acinetobacter baumannii AB0057   \n7                 Acinetobacter calcoaceticus PHEA-2   \n8                Acinetobacter haemolyticus NIPH 261   \n9                      Acinetobacter johnsonii SH046   \n\n                                            seedid   kingdom          phylum  \\\n0      Abiotrophia defectiva ATCC 49176 (592010.4)  Bacteria      Firmicutes   \n1         Achromobacter xylosoxidans A8 (762376.5)  Bacteria  Proteobacteria   \n2                                              NaN  Bacteria  Proteobacteria   \n3  Acidaminococcus fermentans DSM 20731 (591001.3)  Bacteria      Firmicutes   \n4    Acidaminococcus intestini RyC-MR95 (568816.4)  Bacteria      Firmicutes   \n5               Acidaminococcus sp. D21 (563191.3)  Bacteria      Firmicutes   \n6        Acinetobacter baumannii AB0057 (480119.5)  Bacteria  Proteobacteria   \n7    Acinetobacter calcoaceticus PHEA-2 (871585.3)  Bacteria  Proteobacteria   \n8  Acinetobacter haemolyticus NIPH 261 (1217986.3)  Bacteria  Proteobacteria   \n9         Acinetobacter johnsonii SH046 (575586.4)  Bacteria  Proteobacteria   \n\n                mclass              order              family  \\\n0              Bacilli    Lactobacillales       Aerococcaceae   \n1   Betaproteobacteria    Burkholderiales      Alcaligenaceae   \n2   Betaproteobacteria    Burkholderiales      Alcaligenaceae   \n3        Negativicutes  Acidaminococcales  Acidaminococcaceae   \n4        Negativicutes    Selenomonadales  Acidaminococcaceae   \n5        Negativicutes    Selenomonadales  Acidaminococcaceae   \n6  Gammaproteobacteria    Pseudomonadales       Moraxellaceae   \n7  Gammaproteobacteria    Pseudomonadales       Moraxellaceae   \n8  Gammaproteobacteria    Pseudomonadales       Moraxellaceae   \n9  Gammaproteobacteria    Pseudomonadales       Moraxellaceae   \n\n             genus            oxygenstat  \\\n0      Abiotrophia  Facultative anaerobe   \n1    Achromobacter                Aerobe   \n2    Achromobacter                Aerobe   \n3  Acidaminococcus     Obligate anaerobe   \n4  Acidaminococcus     Obligate anaerobe   \n5  Acidaminococcus     Obligate anaerobe   \n6    Acinetobacter                Aerobe   \n7    Acinetobacter                Aerobe   \n8    Acinetobacter                Aerobe   \n9    Acinetobacter                Aerobe   \n\n                          metabolism_original  ... genes reactions  \\\n0  Saccharolytic, fermentative or respiratory  ...   631      2428   \n1                                 Respiratory  ...  1663      1668   \n2                                 Respiratory  ...  1380      1674   \n3                                Fermentative  ...   645      1102   \n4      Asaccharolytic, glutamate is fermented  ...   600      1001   \n5      Asaccharolytic, glutamate is fermented  ...   562       860   \n6                                 Respiratory  ...  1021      1593   \n7                                 Respiratory  ...  1026      1586   \n8                                 Respiratory  ...   876      1382   \n9                              Asaccharolytic  ...   863      1446   \n\n  metabolites  draftcreator         draftcreated  phenotype         imgid  \\\n0        1250   Eugen Bauer  2014-07-01 00:00:00        1.0  2.562617e+09   \n1        1229           NaN                  NaN        NaN           NaN   \n2        1216           NaN                  NaN        NaN           NaN   \n3         905    Laura Kutt  2016-04-17 00:00:00        NaN  6.463119e+08   \n4         828   Eugen Bauer  2014-08-03 00:00:00        4.0  2.511231e+09   \n5         770   Ines Thiele  2012-06-29 00:00:00        3.0  6.438861e+08   \n6        1181           NaN                  NaN        NaN           NaN   \n7        1164    Laura Kutt  2016-04-18 00:00:00        NaN  6.503779e+08   \n8        1073    Laura Kutt  2016-04-18 00:00:00        NaN  2.537562e+09   \n9        1068    Laura Kutt  2016-04-18 00:00:00        NaN  6.462063e+08   \n\n      ncbiid   platform             kbaseid  \n0   592010.0  ModelSEED                 NaN  \n1   762376.0  ModelSEED  kb_g_3268_model_gf  \n2  1216976.0      Kbase         kb|g.208127  \n3   591001.0      Kbase           kb|g.2555  \n4   568816.0      Kbase                 NaN  \n5   563191.0      Kbase                 NaN  \n6   480119.0      Kbase           kb|g.1744  \n7   871585.0      Kbase           kb|g.3519  \n8  1217986.0  ModelSEED          kb|g.31235  \n9   575586.0  ModelSEED           kb|g.2448  \n\n[10 rows x 23 columns]",
      "text/html": "<div>\n<style scoped>\n    .dataframe tbody tr th:only-of-type {\n        vertical-align: middle;\n    }\n\n    .dataframe tbody tr th {\n        vertical-align: top;\n    }\n\n    .dataframe thead th {\n        text-align: right;\n    }\n</style>\n<table border=\"1\" class=\"dataframe\">\n  <thead>\n    <tr style=\"text-align: right;\">\n      <th></th>\n      <th>organism</th>\n      <th>seedid</th>\n      <th>kingdom</th>\n      <th>phylum</th>\n      <th>mclass</th>\n      <th>order</th>\n      <th>family</th>\n      <th>genus</th>\n      <th>oxygenstat</th>\n      <th>metabolism_original</th>\n      <th>...</th>\n      <th>genes</th>\n      <th>reactions</th>\n      <th>metabolites</th>\n      <th>draftcreator</th>\n      <th>draftcreated</th>\n      <th>phenotype</th>\n      <th>imgid</th>\n      <th>ncbiid</th>\n      <th>platform</th>\n      <th>kbaseid</th>\n    </tr>\n  </thead>\n  <tbody>\n    <tr>\n      <th>0</th>\n      <td>Abiotrophia defectiva ATCC 49176</td>\n      <td>Abiotrophia defectiva ATCC 49176 (592010.4)</td>\n      <td>Bacteria</td>\n      <td>Firmicutes</td>\n      <td>Bacilli</td>\n      <td>Lactobacillales</td>\n      <td>Aerococcaceae</td>\n      <td>Abiotrophia</td>\n      <td>Facultative anaerobe</td>\n      <td>Saccharolytic, fermentative or respiratory</td>\n      <td>...</td>\n      <td>631</td>\n      <td>2428</td>\n      <td>1250</td>\n      <td>Eugen Bauer</td>\n      <td>2014-07-01 00:00:00</td>\n      <td>1.0</td>\n      <td>2.562617e+09</td>\n      <td>592010.0</td>\n      <td>ModelSEED</td>\n      <td>NaN</td>\n    </tr>\n    <tr>\n      <th>1</th>\n      <td>Achromobacter xylosoxidans A8</td>\n      <td>Achromobacter xylosoxidans A8 (762376.5)</td>\n      <td>Bacteria</td>\n      <td>Proteobacteria</td>\n      <td>Betaproteobacteria</td>\n      <td>Burkholderiales</td>\n      <td>Alcaligenaceae</td>\n      <td>Achromobacter</td>\n      <td>Aerobe</td>\n      <td>Respiratory</td>\n      <td>...</td>\n      <td>1663</td>\n      <td>1668</td>\n      <td>1229</td>\n      <td>NaN</td>\n      <td>NaN</td>\n      <td>NaN</td>\n      <td>NaN</td>\n      <td>762376.0</td>\n      <td>ModelSEED</td>\n      <td>kb_g_3268_model_gf</td>\n    </tr>\n    <tr>\n      <th>2</th>\n      <td>Achromobacter xylosoxidans NBRC 15126 = ATCC 2...</td>\n      <td>NaN</td>\n      <td>Bacteria</td>\n      <td>Proteobacteria</td>\n      <td>Betaproteobacteria</td>\n      <td>Burkholderiales</td>\n      <td>Alcaligenaceae</td>\n      <td>Achromobacter</td>\n      <td>Aerobe</td>\n      <td>Respiratory</td>\n      <td>...</td>\n      <td>1380</td>\n      <td>1674</td>\n      <td>1216</td>\n      <td>NaN</td>\n      <td>NaN</td>\n      <td>NaN</td>\n      <td>NaN</td>\n      <td>1216976.0</td>\n      <td>Kbase</td>\n      <td>kb|g.208127</td>\n    </tr>\n    <tr>\n      <th>3</th>\n      <td>Acidaminococcus fermentans DSM 20731</td>\n      <td>Acidaminococcus fermentans DSM 20731 (591001.3)</td>\n      <td>Bacteria</td>\n      <td>Firmicutes</td>\n      <td>Negativicutes</td>\n      <td>Acidaminococcales</td>\n      <td>Acidaminococcaceae</td>\n      <td>Acidaminococcus</td>\n      <td>Obligate anaerobe</td>\n      <td>Fermentative</td>\n      <td>...</td>\n      <td>645</td>\n      <td>1102</td>\n      <td>905</td>\n      <td>Laura Kutt</td>\n      <td>2016-04-17 00:00:00</td>\n      <td>NaN</td>\n      <td>6.463119e+08</td>\n      <td>591001.0</td>\n      <td>Kbase</td>\n      <td>kb|g.2555</td>\n    </tr>\n    <tr>\n      <th>4</th>\n      <td>Acidaminococcus intestini RyC-MR95</td>\n      <td>Acidaminococcus intestini RyC-MR95 (568816.4)</td>\n      <td>Bacteria</td>\n      <td>Firmicutes</td>\n      <td>Negativicutes</td>\n      <td>Selenomonadales</td>\n      <td>Acidaminococcaceae</td>\n      <td>Acidaminococcus</td>\n      <td>Obligate anaerobe</td>\n      <td>Asaccharolytic, glutamate is fermented</td>\n      <td>...</td>\n      <td>600</td>\n      <td>1001</td>\n      <td>828</td>\n      <td>Eugen Bauer</td>\n      <td>2014-08-03 00:00:00</td>\n      <td>4.0</td>\n      <td>2.511231e+09</td>\n      <td>568816.0</td>\n      <td>Kbase</td>\n      <td>NaN</td>\n    </tr>\n    <tr>\n      <th>5</th>\n      <td>Acidaminococcus sp. D21</td>\n      <td>Acidaminococcus sp. D21 (563191.3)</td>\n      <td>Bacteria</td>\n      <td>Firmicutes</td>\n      <td>Negativicutes</td>\n      <td>Selenomonadales</td>\n      <td>Acidaminococcaceae</td>\n      <td>Acidaminococcus</td>\n      <td>Obligate anaerobe</td>\n      <td>Asaccharolytic, glutamate is fermented</td>\n      <td>...</td>\n      <td>562</td>\n      <td>860</td>\n      <td>770</td>\n      <td>Ines Thiele</td>\n      <td>2012-06-29 00:00:00</td>\n      <td>3.0</td>\n      <td>6.438861e+08</td>\n      <td>563191.0</td>\n      <td>Kbase</td>\n      <td>NaN</td>\n    </tr>\n    <tr>\n      <th>6</th>\n      <td>Acinetobacter baumannii AB0057</td>\n      <td>Acinetobacter baumannii AB0057 (480119.5)</td>\n      <td>Bacteria</td>\n      <td>Proteobacteria</td>\n      <td>Gammaproteobacteria</td>\n      <td>Pseudomonadales</td>\n      <td>Moraxellaceae</td>\n      <td>Acinetobacter</td>\n      <td>Aerobe</td>\n      <td>Respiratory</td>\n      <td>...</td>\n      <td>1021</td>\n      <td>1593</td>\n      <td>1181</td>\n      <td>NaN</td>\n      <td>NaN</td>\n      <td>NaN</td>\n      <td>NaN</td>\n      <td>480119.0</td>\n      <td>Kbase</td>\n      <td>kb|g.1744</td>\n    </tr>\n    <tr>\n      <th>7</th>\n      <td>Acinetobacter calcoaceticus PHEA-2</td>\n      <td>Acinetobacter calcoaceticus PHEA-2 (871585.3)</td>\n      <td>Bacteria</td>\n      <td>Proteobacteria</td>\n      <td>Gammaproteobacteria</td>\n      <td>Pseudomonadales</td>\n      <td>Moraxellaceae</td>\n      <td>Acinetobacter</td>\n      <td>Aerobe</td>\n      <td>Respiratory</td>\n      <td>...</td>\n      <td>1026</td>\n      <td>1586</td>\n      <td>1164</td>\n      <td>Laura Kutt</td>\n      <td>2016-04-18 00:00:00</td>\n      <td>NaN</td>\n      <td>6.503779e+08</td>\n      <td>871585.0</td>\n      <td>Kbase</td>\n      <td>kb|g.3519</td>\n    </tr>\n    <tr>\n      <th>8</th>\n      <td>Acinetobacter haemolyticus NIPH 261</td>\n      <td>Acinetobacter haemolyticus NIPH 261 (1217986.3)</td>\n      <td>Bacteria</td>\n      <td>Proteobacteria</td>\n      <td>Gammaproteobacteria</td>\n      <td>Pseudomonadales</td>\n      <td>Moraxellaceae</td>\n      <td>Acinetobacter</td>\n      <td>Aerobe</td>\n      <td>Respiratory</td>\n      <td>...</td>\n      <td>876</td>\n      <td>1382</td>\n      <td>1073</td>\n      <td>Laura Kutt</td>\n      <td>2016-04-18 00:00:00</td>\n      <td>NaN</td>\n      <td>2.537562e+09</td>\n      <td>1217986.0</td>\n      <td>ModelSEED</td>\n      <td>kb|g.31235</td>\n    </tr>\n    <tr>\n      <th>9</th>\n      <td>Acinetobacter johnsonii SH046</td>\n      <td>Acinetobacter johnsonii SH046 (575586.4)</td>\n      <td>Bacteria</td>\n      <td>Proteobacteria</td>\n      <td>Gammaproteobacteria</td>\n      <td>Pseudomonadales</td>\n      <td>Moraxellaceae</td>\n      <td>Acinetobacter</td>\n      <td>Aerobe</td>\n      <td>Asaccharolytic</td>\n      <td>...</td>\n      <td>863</td>\n      <td>1446</td>\n      <td>1068</td>\n      <td>Laura Kutt</td>\n      <td>2016-04-18 00:00:00</td>\n      <td>NaN</td>\n      <td>6.462063e+08</td>\n      <td>575586.0</td>\n      <td>ModelSEED</td>\n      <td>kb|g.2448</td>\n    </tr>\n  </tbody>\n</table>\n<p>10 rows × 23 columns</p>\n</div>"
     },
     "execution_count": 152,
     "metadata": {},
     "output_type": "execute_result"
    }
   ],
   "source": [
    "# read data.xlsx as pandas dataframe\n",
    "df = pd.read_excel(\"sbml_data.xlsx\")\n",
    "df.head(10)"
   ]
  },
  {
   "cell_type": "code",
   "execution_count": 153,
   "metadata": {
    "colab": {
     "base_uri": "https://localhost:8080/",
     "height": 542
    },
    "id": "uuwpG890HKhW",
    "outputId": "64dbaaee-10b2-4214-f2be-b0508cd2e7b7"
   },
   "outputs": [
    {
     "data": {
      "text/plain": "                                            organism  \\\n0                   Abiotrophia defectiva ATCC 49176   \n1                      Achromobacter xylosoxidans A8   \n2  Achromobacter xylosoxidans NBRC 15126 = ATCC 2...   \n3               Acidaminococcus fermentans DSM 20731   \n4                 Acidaminococcus intestini RyC-MR95   \n\n                                            seedid   kingdom          phylum  \\\n0      Abiotrophia defectiva ATCC 49176 (592010.4)  Bacteria      Firmicutes   \n1         Achromobacter xylosoxidans A8 (762376.5)  Bacteria  Proteobacteria   \n2                                              NaN  Bacteria  Proteobacteria   \n3  Acidaminococcus fermentans DSM 20731 (591001.3)  Bacteria      Firmicutes   \n4    Acidaminococcus intestini RyC-MR95 (568816.4)  Bacteria      Firmicutes   \n\n               mclass              order              family            genus  \\\n0             Bacilli    Lactobacillales       Aerococcaceae      Abiotrophia   \n1  Betaproteobacteria    Burkholderiales      Alcaligenaceae    Achromobacter   \n2  Betaproteobacteria    Burkholderiales      Alcaligenaceae    Achromobacter   \n3       Negativicutes  Acidaminococcales  Acidaminococcaceae  Acidaminococcus   \n4       Negativicutes    Selenomonadales  Acidaminococcaceae  Acidaminococcus   \n\n             oxygenstat                         metabolism_original  ...  \\\n0  Facultative anaerobe  Saccharolytic, fermentative or respiratory  ...   \n1                Aerobe                                 Respiratory  ...   \n2                Aerobe                                 Respiratory  ...   \n3     Obligate anaerobe                                Fermentative  ...   \n4     Obligate anaerobe      Asaccharolytic, glutamate is fermented  ...   \n\n  genes reactions metabolites  draftcreator         draftcreated  phenotype  \\\n0   631      2428        1250   Eugen Bauer  2014-07-01 00:00:00        1.0   \n1  1663      1668        1229           NaN                  NaN        NaN   \n2  1380      1674        1216           NaN                  NaN        NaN   \n3   645      1102         905    Laura Kutt  2016-04-17 00:00:00        NaN   \n4   600      1001         828   Eugen Bauer  2014-08-03 00:00:00        4.0   \n\n          imgid     ncbiid   platform             kbaseid  \n0  2.562617e+09   592010.0  ModelSEED                 NaN  \n1           NaN   762376.0  ModelSEED  kb_g_3268_model_gf  \n2           NaN  1216976.0      Kbase         kb|g.208127  \n3  6.463119e+08   591001.0      Kbase           kb|g.2555  \n4  2.511231e+09   568816.0      Kbase                 NaN  \n\n[5 rows x 23 columns]",
      "text/html": "<div>\n<style scoped>\n    .dataframe tbody tr th:only-of-type {\n        vertical-align: middle;\n    }\n\n    .dataframe tbody tr th {\n        vertical-align: top;\n    }\n\n    .dataframe thead th {\n        text-align: right;\n    }\n</style>\n<table border=\"1\" class=\"dataframe\">\n  <thead>\n    <tr style=\"text-align: right;\">\n      <th></th>\n      <th>organism</th>\n      <th>seedid</th>\n      <th>kingdom</th>\n      <th>phylum</th>\n      <th>mclass</th>\n      <th>order</th>\n      <th>family</th>\n      <th>genus</th>\n      <th>oxygenstat</th>\n      <th>metabolism_original</th>\n      <th>...</th>\n      <th>genes</th>\n      <th>reactions</th>\n      <th>metabolites</th>\n      <th>draftcreator</th>\n      <th>draftcreated</th>\n      <th>phenotype</th>\n      <th>imgid</th>\n      <th>ncbiid</th>\n      <th>platform</th>\n      <th>kbaseid</th>\n    </tr>\n  </thead>\n  <tbody>\n    <tr>\n      <th>0</th>\n      <td>Abiotrophia defectiva ATCC 49176</td>\n      <td>Abiotrophia defectiva ATCC 49176 (592010.4)</td>\n      <td>Bacteria</td>\n      <td>Firmicutes</td>\n      <td>Bacilli</td>\n      <td>Lactobacillales</td>\n      <td>Aerococcaceae</td>\n      <td>Abiotrophia</td>\n      <td>Facultative anaerobe</td>\n      <td>Saccharolytic, fermentative or respiratory</td>\n      <td>...</td>\n      <td>631</td>\n      <td>2428</td>\n      <td>1250</td>\n      <td>Eugen Bauer</td>\n      <td>2014-07-01 00:00:00</td>\n      <td>1.0</td>\n      <td>2.562617e+09</td>\n      <td>592010.0</td>\n      <td>ModelSEED</td>\n      <td>NaN</td>\n    </tr>\n    <tr>\n      <th>1</th>\n      <td>Achromobacter xylosoxidans A8</td>\n      <td>Achromobacter xylosoxidans A8 (762376.5)</td>\n      <td>Bacteria</td>\n      <td>Proteobacteria</td>\n      <td>Betaproteobacteria</td>\n      <td>Burkholderiales</td>\n      <td>Alcaligenaceae</td>\n      <td>Achromobacter</td>\n      <td>Aerobe</td>\n      <td>Respiratory</td>\n      <td>...</td>\n      <td>1663</td>\n      <td>1668</td>\n      <td>1229</td>\n      <td>NaN</td>\n      <td>NaN</td>\n      <td>NaN</td>\n      <td>NaN</td>\n      <td>762376.0</td>\n      <td>ModelSEED</td>\n      <td>kb_g_3268_model_gf</td>\n    </tr>\n    <tr>\n      <th>2</th>\n      <td>Achromobacter xylosoxidans NBRC 15126 = ATCC 2...</td>\n      <td>NaN</td>\n      <td>Bacteria</td>\n      <td>Proteobacteria</td>\n      <td>Betaproteobacteria</td>\n      <td>Burkholderiales</td>\n      <td>Alcaligenaceae</td>\n      <td>Achromobacter</td>\n      <td>Aerobe</td>\n      <td>Respiratory</td>\n      <td>...</td>\n      <td>1380</td>\n      <td>1674</td>\n      <td>1216</td>\n      <td>NaN</td>\n      <td>NaN</td>\n      <td>NaN</td>\n      <td>NaN</td>\n      <td>1216976.0</td>\n      <td>Kbase</td>\n      <td>kb|g.208127</td>\n    </tr>\n    <tr>\n      <th>3</th>\n      <td>Acidaminococcus fermentans DSM 20731</td>\n      <td>Acidaminococcus fermentans DSM 20731 (591001.3)</td>\n      <td>Bacteria</td>\n      <td>Firmicutes</td>\n      <td>Negativicutes</td>\n      <td>Acidaminococcales</td>\n      <td>Acidaminococcaceae</td>\n      <td>Acidaminococcus</td>\n      <td>Obligate anaerobe</td>\n      <td>Fermentative</td>\n      <td>...</td>\n      <td>645</td>\n      <td>1102</td>\n      <td>905</td>\n      <td>Laura Kutt</td>\n      <td>2016-04-17 00:00:00</td>\n      <td>NaN</td>\n      <td>6.463119e+08</td>\n      <td>591001.0</td>\n      <td>Kbase</td>\n      <td>kb|g.2555</td>\n    </tr>\n    <tr>\n      <th>4</th>\n      <td>Acidaminococcus intestini RyC-MR95</td>\n      <td>Acidaminococcus intestini RyC-MR95 (568816.4)</td>\n      <td>Bacteria</td>\n      <td>Firmicutes</td>\n      <td>Negativicutes</td>\n      <td>Selenomonadales</td>\n      <td>Acidaminococcaceae</td>\n      <td>Acidaminococcus</td>\n      <td>Obligate anaerobe</td>\n      <td>Asaccharolytic, glutamate is fermented</td>\n      <td>...</td>\n      <td>600</td>\n      <td>1001</td>\n      <td>828</td>\n      <td>Eugen Bauer</td>\n      <td>2014-08-03 00:00:00</td>\n      <td>4.0</td>\n      <td>2.511231e+09</td>\n      <td>568816.0</td>\n      <td>Kbase</td>\n      <td>NaN</td>\n    </tr>\n  </tbody>\n</table>\n<p>5 rows × 23 columns</p>\n</div>"
     },
     "execution_count": 153,
     "metadata": {},
     "output_type": "execute_result"
    }
   ],
   "source": [
    "# see the top rows of the pandas dataframe\n",
    "df.head()"
   ]
  },
  {
   "cell_type": "code",
   "execution_count": 154,
   "metadata": {
    "colab": {
     "base_uri": "https://localhost:8080/"
    },
    "id": "v92m1O8wSua2",
    "outputId": "97970dce-654f-442a-d1db-06573a0dd427"
   },
   "outputs": [
    {
     "name": "stdout",
     "output_type": "stream",
     "text": [
      "Crenarchaeota              1\n",
      "Nitrososphaeria            1\n",
      "Fusobacteriia              1\n",
      "Verrucomicrobia            1\n",
      "Synergistia                1\n",
      "Deltaproteobacteria        1\n",
      "Spirochaetes               1\n",
      "Halobacteria               1\n",
      "Melainabacteria            1\n",
      "Methanobacteria            1\n",
      "Thermoplasmata             1\n",
      "Coriobacteriia             1\n",
      "Planctomycetes             1\n",
      "Epsilonproteobacteria      1\n",
      "Synergistetes              2\n",
      "Euryarchaeota              2\n",
      "Alphaproteobacteria        3\n",
      "Negativicutes              3\n",
      "Tissierellia               3\n",
      "Tenericutes                4\n",
      "Betaproteobacteria         4\n",
      "Erysipelotrichia           6\n",
      "Fusobacteria              18\n",
      "Bacteroidia               18\n",
      "Gammaproteobacteria       24\n",
      "Clostridia                29\n",
      "Bacilli                   34\n",
      "Bacteroidetes             98\n",
      "Actinobacteria           118\n",
      "Proteobacteria           141\n",
      "Firmicutes               297\n",
      "Name: phylum, dtype: int64\n"
     ]
    }
   ],
   "source": [
    "# get categories of the column phylum\n",
    "phyla = df[\"phylum\"].value_counts().sort_values() #index #count()\n",
    "print(phyla)"
   ]
  },
  {
   "cell_type": "code",
   "execution_count": 155,
   "metadata": {
    "colab": {
     "base_uri": "https://localhost:8080/",
     "height": 610
    },
    "id": "yvzNDWY7ODHD",
    "outputId": "1e5dee1f-d526-4f9d-ac41-6089be1eba61"
   },
   "outputs": [
    {
     "data": {
      "text/plain": "<BarContainer object of 31 artists>"
     },
     "execution_count": 155,
     "metadata": {},
     "output_type": "execute_result"
    }
   ],
   "source": [
    "# create bar plot for phyla\n",
    "plt.figure(figsize=(10,10))\n",
    "plt.barh(phyla.index,phyla)"
   ]
  },
  {
   "cell_type": "code",
   "execution_count": 156,
   "metadata": {
    "colab": {
     "base_uri": "https://localhost:8080/"
    },
    "id": "6ItDT3rQocvJ",
    "outputId": "0826b942-0636-4ef1-a4df-50618c56f63c"
   },
   "outputs": [
    {
     "name": "stdout",
     "output_type": "stream",
     "text": [
      "Erysipelotrichia         6\n",
      "Fusobacteria            18\n",
      "Bacteroidia             18\n",
      "Gammaproteobacteria     24\n",
      "Clostridia              29\n",
      "Bacilli                 34\n",
      "Bacteroidetes           98\n",
      "Actinobacteria         118\n",
      "Proteobacteria         141\n",
      "Firmicutes             297\n",
      "Other                   35\n",
      "dtype: int64\n"
     ]
    },
    {
     "name": "stderr",
     "output_type": "stream",
     "text": [
      "/tmp/ipykernel_6566/729182541.py:3: FutureWarning: The series.append method is deprecated and will be removed from pandas in a future version. Use pandas.concat instead.\n",
      "  reduced_phyla = reduced_phyla.append(pd.Series(phyla[phyla <= 5].sum(), index=[\"Other\"]))\n"
     ]
    }
   ],
   "source": [
    "# combine categories of the column phylum with small number of organisms\n",
    "reduced_phyla = phyla[phyla > 5]\n",
    "reduced_phyla = reduced_phyla.append(pd.Series(phyla[phyla <= 5].sum(), index=[\"Other\"]))\n",
    "print(reduced_phyla)"
   ]
  },
  {
   "cell_type": "code",
   "execution_count": 157,
   "metadata": {
    "colab": {
     "base_uri": "https://localhost:8080/",
     "height": 685
    },
    "id": "G_z0EqseR--3",
    "outputId": "ea7ca7dd-1f91-4b44-d44a-562b5e823bf9"
   },
   "outputs": [
    {
     "data": {
      "text/plain": "([<matplotlib.patches.Wedge at 0x7fc8b5a61ea0>,\n  <matplotlib.patches.Wedge at 0x7fc8b5a62380>,\n  <matplotlib.patches.Wedge at 0x7fc8b5a62860>,\n  <matplotlib.patches.Wedge at 0x7fc8b5a62d40>,\n  <matplotlib.patches.Wedge at 0x7fc8b5a63220>,\n  <matplotlib.patches.Wedge at 0x7fc8b5a63700>,\n  <matplotlib.patches.Wedge at 0x7fc8b5a63be0>,\n  <matplotlib.patches.Wedge at 0x7fc8b5a08100>,\n  <matplotlib.patches.Wedge at 0x7fc8b5a085e0>,\n  <matplotlib.patches.Wedge at 0x7fc8b5a08ac0>,\n  <matplotlib.patches.Wedge at 0x7fc8b5a61e70>],\n [Text(1.0997079621639747, 0.025345570681247338, 'Erysipelotrichia'),\n  Text(1.092706804869633, 0.12645884149239262, 'Fusobacteria'),\n  Text(1.0648506655438716, 0.27584970562024147, 'Bacteroidia'),\n  Text(1.006724437265094, 0.4432898683855518, 'Gammaproteobacteria'),\n  Text(0.8963304904664804, 0.6376453966430864, 'Clostridia'),\n  Text(0.7174399196500032, 0.8338344929856266, 'Bacilli'),\n  Text(0.22236271354153817, 1.0772905010378788, 'Bacteroidetes'),\n  Text(-0.6445113994797278, 0.8914062238624334, 'Actinobacteria'),\n  Text(-1.0986292665988164, -0.05489749149594166, 'Proteobacteria'),\n  Text(0.17666628513689317, -1.0857205090150643, 'Firmicutes'),\n  Text(1.0900771203463506, -0.14741733852369, 'Other')])"
     },
     "execution_count": 157,
     "metadata": {},
     "output_type": "execute_result"
    }
   ],
   "source": [
    "# create pie plot for phyla\n",
    "plt.figure(figsize=(5,5))\n",
    "plt.pie(reduced_phyla,labels=reduced_phyla.index)"
   ]
  },
  {
   "cell_type": "markdown",
   "metadata": {},
   "source": [
    "Here we will implement k-mode clustering as proposed by the paper https://cse.hkust.edu.hk/~qyang/Teaching/537/Papers/huang98extensions.pdf"
   ]
  },
  {
   "cell_type": "code",
   "execution_count": 158,
   "metadata": {},
   "outputs": [
    {
     "data": {
      "text/plain": "           phylum            oxygenstat  \\\n0      Firmicutes  Facultative anaerobe   \n1  Proteobacteria                Aerobe   \n2  Proteobacteria                Aerobe   \n3      Firmicutes     Obligate anaerobe   \n4      Firmicutes     Obligate anaerobe   \n\n                                   metabolism      mtype  \n0  Saccharolytic, fermentative or respiratory   Pathogen  \n1                                 Respiratory    No Data  \n2                                 Respiratory    No Data  \n3                                Fermentative    No Data  \n4                Asaccharolytic, fermentative  Commensal  ",
      "text/html": "<div>\n<style scoped>\n    .dataframe tbody tr th:only-of-type {\n        vertical-align: middle;\n    }\n\n    .dataframe tbody tr th {\n        vertical-align: top;\n    }\n\n    .dataframe thead th {\n        text-align: right;\n    }\n</style>\n<table border=\"1\" class=\"dataframe\">\n  <thead>\n    <tr style=\"text-align: right;\">\n      <th></th>\n      <th>phylum</th>\n      <th>oxygenstat</th>\n      <th>metabolism</th>\n      <th>mtype</th>\n    </tr>\n  </thead>\n  <tbody>\n    <tr>\n      <th>0</th>\n      <td>Firmicutes</td>\n      <td>Facultative anaerobe</td>\n      <td>Saccharolytic, fermentative or respiratory</td>\n      <td>Pathogen</td>\n    </tr>\n    <tr>\n      <th>1</th>\n      <td>Proteobacteria</td>\n      <td>Aerobe</td>\n      <td>Respiratory</td>\n      <td>No Data</td>\n    </tr>\n    <tr>\n      <th>2</th>\n      <td>Proteobacteria</td>\n      <td>Aerobe</td>\n      <td>Respiratory</td>\n      <td>No Data</td>\n    </tr>\n    <tr>\n      <th>3</th>\n      <td>Firmicutes</td>\n      <td>Obligate anaerobe</td>\n      <td>Fermentative</td>\n      <td>No Data</td>\n    </tr>\n    <tr>\n      <th>4</th>\n      <td>Firmicutes</td>\n      <td>Obligate anaerobe</td>\n      <td>Asaccharolytic, fermentative</td>\n      <td>Commensal</td>\n    </tr>\n  </tbody>\n</table>\n</div>"
     },
     "execution_count": 158,
     "metadata": {},
     "output_type": "execute_result"
    }
   ],
   "source": [
    "# Extract columns phylum, oxygen status, metabolism, mtype from the dataframe for clustering\n",
    "df_cluster = df[[\"phylum\",\"oxygenstat\",\"metabolism\",\"mtype\"]]\n",
    "df_cluster = df_cluster.fillna(\"No Data\")\n",
    "df_cluster.head()\n"
   ]
  },
  {
   "cell_type": "code",
   "execution_count": 159,
   "metadata": {},
   "outputs": [
    {
     "name": "stdout",
     "output_type": "stream",
     "text": [
      "(818, 4)\n",
      "[['Firmicutes' 'Facultative anaerobe'\n",
      "  'Saccharolytic, fermentative or respiratory' 'Pathogen']\n",
      " ['Proteobacteria' 'Aerobe' 'Respiratory' 'No Data']\n",
      " ['Proteobacteria' 'Aerobe' 'Respiratory' 'No Data']\n",
      " ['Firmicutes' 'Obligate anaerobe' 'Fermentative' 'No Data']\n",
      " ['Firmicutes' 'Obligate anaerobe' 'Asaccharolytic, fermentative'\n",
      "  'Commensal']\n",
      " ['Firmicutes' 'Obligate anaerobe' 'Asaccharolytic, fermentative'\n",
      "  'Commensal']\n",
      " ['Proteobacteria' 'Aerobe' 'Respiratory' 'No Data']\n",
      " ['Proteobacteria' 'Aerobe' 'Respiratory' 'No Data']\n",
      " ['Proteobacteria' 'Aerobe' 'Respiratory' 'No Data']\n",
      " ['Proteobacteria' 'Aerobe' 'Asaccharolytic' 'No Data']]\n"
     ]
    }
   ],
   "source": [
    "# Convert the dataframe to a numpy array\n",
    "dfMatrix = df_cluster.values\n",
    "print(dfMatrix.shape)\n",
    "print(dfMatrix[0:10])"
   ]
  },
  {
   "cell_type": "code",
   "execution_count": 160,
   "metadata": {},
   "outputs": [
    {
     "name": "stdout",
     "output_type": "stream",
     "text": [
      "Cluster initiation: 1\n",
      "Cluster initiation: 2\n",
      "Cluster initiation: 3\n",
      "Cluster initiation: 4\n",
      "Cluster initiation: 5\n",
      "Cluster initiation: 6\n",
      "Cluster initiation: 7\n",
      "Cluster initiation: 8\n",
      "Cluster initiation: 9\n",
      "Cluster initiation: 10\n",
      "Cluster initiation: 11\n",
      "Cluster initiation: 12\n",
      "Cluster initiation: 13\n",
      "Cluster initiation: 14\n",
      "Cluster initiation: 15\n",
      "Cluster initiation: 16\n",
      "Cluster initiation: 17\n",
      "Cluster initiation: 18\n",
      "Cluster initiation: 19\n",
      "[1996.0, 1512.0, 1312.0, 1202.0, 1139.0, 988.0, 941.0, 849.0, 843.0, 823.0, 742.0, 779.0, 687.0, 662.0, 672.0, 631.0, 619.0, 616.0, 593.0]\n"
     ]
    }
   ],
   "source": [
    "from kmodes.kmodes import KModes\n",
    "\n",
    "# Choosing optimal K for clustering\n",
    "cost = []\n",
    "for cluster in range(1, 20):\n",
    "\n",
    "    kmodes = KModes(n_jobs = -1, n_clusters = cluster, init = 'Huang', random_state = 0)\n",
    "    kmodes.fit_predict(dfMatrix)\n",
    "    cost.append(kmodes.cost_)\n",
    "    print('Cluster initiation: {}'.format(cluster))\n",
    "\n",
    "\n",
    "print(cost)\n",
    "\n",
    "# Visualize the cost of clusters\n",
    "plt.plot(range(len(cost)), cost)\n",
    "plt.xlabel('Number of clusters')\n",
    "plt.ylabel('Cost')\n",
    "plt.title('Cost of clusters')\n",
    "# gridlines\n",
    "# make x axis ticks integers\n",
    "plt.xticks(range(len(cost)), range(1, len(cost) + 1))\n",
    "plt.grid(True)\n",
    "\n",
    "# plt.show()\n"
   ]
  },
  {
   "cell_type": "markdown",
   "metadata": {},
   "source": [
    "We can qualitatively determine that 8 clusters would be optimal, hence we commence clustering with 8 clusters"
   ]
  },
  {
   "cell_type": "code",
   "execution_count": 163,
   "metadata": {},
   "outputs": [
    {
     "data": {
      "text/plain": "           phylum            oxygenstat  \\\n0      Firmicutes  Facultative anaerobe   \n1  Proteobacteria                Aerobe   \n2      Firmicutes     Obligate anaerobe   \n3   Bacteroidetes     Obligate anaerobe   \n4      Firmicutes     Obligate anaerobe   \n5  Actinobacteria     Obligate anaerobe   \n6  Proteobacteria  Facultative anaerobe   \n7   Bacteroidetes             Nanaerobe   \n\n                                   metabolism      mtype  \n0  Saccharolytic, fermentative or respiratory    No Data  \n1                                 Respiratory    No Data  \n2                 Saccharolytic, fermentative    No Data  \n3                              Asaccharolytic    No Data  \n4                 Saccharolytic, fermentative  Commensal  \n5                 Saccharolytic, fermentative  Probiotic  \n6                 Fermentative or respiratory    No Data  \n7                 Saccharolytic, fermentative  Commensal  ",
      "text/html": "<div>\n<style scoped>\n    .dataframe tbody tr th:only-of-type {\n        vertical-align: middle;\n    }\n\n    .dataframe tbody tr th {\n        vertical-align: top;\n    }\n\n    .dataframe thead th {\n        text-align: right;\n    }\n</style>\n<table border=\"1\" class=\"dataframe\">\n  <thead>\n    <tr style=\"text-align: right;\">\n      <th></th>\n      <th>phylum</th>\n      <th>oxygenstat</th>\n      <th>metabolism</th>\n      <th>mtype</th>\n    </tr>\n  </thead>\n  <tbody>\n    <tr>\n      <th>0</th>\n      <td>Firmicutes</td>\n      <td>Facultative anaerobe</td>\n      <td>Saccharolytic, fermentative or respiratory</td>\n      <td>No Data</td>\n    </tr>\n    <tr>\n      <th>1</th>\n      <td>Proteobacteria</td>\n      <td>Aerobe</td>\n      <td>Respiratory</td>\n      <td>No Data</td>\n    </tr>\n    <tr>\n      <th>2</th>\n      <td>Firmicutes</td>\n      <td>Obligate anaerobe</td>\n      <td>Saccharolytic, fermentative</td>\n      <td>No Data</td>\n    </tr>\n    <tr>\n      <th>3</th>\n      <td>Bacteroidetes</td>\n      <td>Obligate anaerobe</td>\n      <td>Asaccharolytic</td>\n      <td>No Data</td>\n    </tr>\n    <tr>\n      <th>4</th>\n      <td>Firmicutes</td>\n      <td>Obligate anaerobe</td>\n      <td>Saccharolytic, fermentative</td>\n      <td>Commensal</td>\n    </tr>\n    <tr>\n      <th>5</th>\n      <td>Actinobacteria</td>\n      <td>Obligate anaerobe</td>\n      <td>Saccharolytic, fermentative</td>\n      <td>Probiotic</td>\n    </tr>\n    <tr>\n      <th>6</th>\n      <td>Proteobacteria</td>\n      <td>Facultative anaerobe</td>\n      <td>Fermentative or respiratory</td>\n      <td>No Data</td>\n    </tr>\n    <tr>\n      <th>7</th>\n      <td>Bacteroidetes</td>\n      <td>Nanaerobe</td>\n      <td>Saccharolytic, fermentative</td>\n      <td>Commensal</td>\n    </tr>\n  </tbody>\n</table>\n</div>"
     },
     "execution_count": 163,
     "metadata": {},
     "output_type": "execute_result"
    }
   ],
   "source": [
    "# Fit the 8 clusters\n",
    "kmodes = KModes(n_jobs = -1, n_clusters = 8, init = 'Huang', random_state = 0)\n",
    "cluster_labels = kmodes.fit_predict(dfMatrix)\n",
    "clusters = pd.DataFrame(kmodes.cluster_centroids_)\n",
    "clusters.columns = [\"phylum\",\"oxygenstat\",\"metabolism\",\"mtype\"]\n",
    "clusters.head(8)\n",
    "# Below displays the 8 cluster centroids"
   ]
  },
  {
   "cell_type": "code",
   "execution_count": 162,
   "outputs": [],
   "source": [
    "from matplotlib import cm\n",
    "from matplotlib.pyplot import scatter\n",
    "\n",
    "# plot a 3D scatter plot using columns \"genes\", \"reactions\", and \"metabolites\" from df\n",
    "x = df[\"genes\"].to_numpy()\n",
    "y = df[\"reactions\"].to_numpy()\n",
    "z = df[\"metabolites\"].to_numpy()\n",
    "%matplotlib tk\n",
    "fig = plt.figure(figsize=(10,10))\n",
    "ax = fig.add_subplot(111, projection='3d')\n",
    "\n",
    "viridis = cm.get_cmap('viridis', 8)\n",
    "\n",
    "for cluster in np.unique(cluster_labels):\n",
    "    i = np.where(cluster_labels == cluster)\n",
    "    ax.scatter(x[i], y[i], z[i], label = f\"cluster {cluster}\", color=viridis(cluster), alpha=1)\n",
    "\n",
    "\n",
    "\n",
    "ax.legend()\n",
    "ax.set_xlabel('genes')\n",
    "ax.set_ylabel('reactions')\n",
    "ax.set_zlabel('metabolites')\n",
    "ax.set_title(\"8-mode Cluster Visualization of the Human Gut Micro-organisms Involed in this Study\")\n",
    "\n",
    "\n",
    "ax.view_init(80, 30)\n",
    "\n",
    "\n",
    "plt.show()"
   ],
   "metadata": {
    "collapsed": false,
    "pycharm": {
     "name": "#%%\n"
    }
   }
  }
 ],
 "metadata": {
  "colab": {
   "name": "sbml_models_plots.ipynb",
   "provenance": []
  },
  "interpreter": {
   "hash": "2deb5e0c178b5ba4ee428b7333e13a5f571f725507bd7e0347b5eea1d0ed0ac4"
  },
  "kernelspec": {
   "display_name": "Python 3.9.7 ('base')",
   "language": "python",
   "name": "python3"
  },
  "language_info": {
   "codemirror_mode": {
    "name": "ipython",
    "version": 3
   },
   "file_extension": ".py",
   "mimetype": "text/x-python",
   "name": "python",
   "nbconvert_exporter": "python",
   "pygments_lexer": "ipython3",
   "version": "3.9.7"
  }
 },
 "nbformat": 4,
 "nbformat_minor": 1
}